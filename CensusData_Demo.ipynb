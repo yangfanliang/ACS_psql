{
 "cells": [
  {
   "cell_type": "code",
   "execution_count": 1,
   "metadata": {},
   "outputs": [],
   "source": [
    "import pandas as pd\n",
    "import numpy as np\n",
    "import censusdata\n",
    "import re\n",
    "import us\n",
    "from sqlalchemy import create_engine\n",
    "from tqdm import tqdm\n",
    "import ohio.ext.pandas\n",
    "import yaml\n",
    "pd.set_option('display.expand_frame_repr', False)\n",
    "pd.set_option('display.precision', 2)"
   ]
  },
  {
   "cell_type": "markdown",
   "metadata": {},
   "source": [
    "### Load secrets for database and census api key"
   ]
  },
  {
   "cell_type": "code",
   "execution_count": 2,
   "metadata": {},
   "outputs": [],
   "source": [
    "import yaml\n",
    "\n",
    "with open('secrets.yaml', 'r') as f:\n",
    "  # loads contents of secrets.yaml into a python dictionary\n",
    "  secret_config = yaml.safe_load(f.read())"
   ]
  },
  {
   "cell_type": "code",
   "execution_count": 3,
   "metadata": {},
   "outputs": [],
   "source": [
    "# secret_config"
   ]
  },
  {
   "cell_type": "code",
   "execution_count": 4,
   "metadata": {},
   "outputs": [],
   "source": [
    "### Set db engine\n",
    "engine = create_engine(\"postgresql://{user}:{pw}@{host}:{port}/{db}\"\n",
    "                       .format(user=secret_config['db']['user'], pw=secret_config['db']['password'],\n",
    "                               db=secret_config['db']['dbname'], host=secret_config['db']['host'],\n",
    "                               port=secret_config['db']['port']), pool_pre_ping=True)"
   ]
  },
  {
   "cell_type": "markdown",
   "metadata": {},
   "source": [
    "## Since we focus on FL turnout, we first find FL fips"
   ]
  },
  {
   "cell_type": "code",
   "execution_count": 5,
   "metadata": {},
   "outputs": [
    {
     "data": {
      "text/plain": [
       "'12'"
      ]
     },
     "execution_count": 5,
     "metadata": {},
     "output_type": "execute_result"
    }
   ],
   "source": [
    "### Check FL fips\n",
    "state_fips = us.states.FL.fips\n",
    "state_fips "
   ]
  },
  {
   "cell_type": "code",
   "execution_count": 6,
   "metadata": {},
   "outputs": [],
   "source": [
    "# censusdata.search('acs5', 2015, 'label', 'unemploy')[160:170]\n",
    "# censusdata.search('acs5', 2018, 'label', 'household income')"
   ]
  },
  {
   "cell_type": "markdown",
   "metadata": {},
   "source": [
    "## Search for all county fips in FL"
   ]
  },
  {
   "cell_type": "code",
   "execution_count": 7,
   "metadata": {},
   "outputs": [],
   "source": [
    "### A function to parse county fips from censusgeo object\n",
    "def get_county_fips(s):\n",
    "    state = str(s).split(',')[-1].split(':')[-1]\n",
    "    return state"
   ]
  },
  {
   "cell_type": "code",
   "execution_count": 8,
   "metadata": {},
   "outputs": [],
   "source": [
    "tmp_county_in_state_dict = censusdata.geographies(censusdata.censusgeo([('state', state_fips), ('county', '*')]),\n",
    "                                                  'acs5', 2018, key=secret_config['web_resource']['api_key'])"
   ]
  },
  {
   "cell_type": "code",
   "execution_count": 9,
   "metadata": {},
   "outputs": [],
   "source": [
    "tmp_county_in_state_dict = pd.Series(tmp_county_in_state_dict)\n",
    "tmp_county_in_state_dict = pd.DataFrame(tmp_county_in_state_dict)\n",
    "# tmp_county_in_state_dict['geo_tuple'] = tmp_county_in_state_dict[0].map(geo_info)"
   ]
  },
  {
   "cell_type": "code",
   "execution_count": 10,
   "metadata": {},
   "outputs": [],
   "source": [
    "tmp_county_in_state_dict['State_fips'] = state_fips"
   ]
  },
  {
   "cell_type": "code",
   "execution_count": 11,
   "metadata": {},
   "outputs": [],
   "source": [
    "tmp_county_in_state_dict['County_fips'] = tmp_county_in_state_dict[0].map(get_county_fips)"
   ]
  },
  {
   "cell_type": "code",
   "execution_count": 12,
   "metadata": {},
   "outputs": [],
   "source": [
    "tmp_county_in_state_dict.drop(columns=[0], inplace=True)"
   ]
  },
  {
   "cell_type": "code",
   "execution_count": 13,
   "metadata": {},
   "outputs": [
    {
     "data": {
      "text/html": [
       "<div>\n",
       "<style scoped>\n",
       "    .dataframe tbody tr th:only-of-type {\n",
       "        vertical-align: middle;\n",
       "    }\n",
       "\n",
       "    .dataframe tbody tr th {\n",
       "        vertical-align: top;\n",
       "    }\n",
       "\n",
       "    .dataframe thead th {\n",
       "        text-align: right;\n",
       "    }\n",
       "</style>\n",
       "<table border=\"1\" class=\"dataframe\">\n",
       "  <thead>\n",
       "    <tr style=\"text-align: right;\">\n",
       "      <th></th>\n",
       "      <th>State_fips</th>\n",
       "      <th>County_fips</th>\n",
       "    </tr>\n",
       "  </thead>\n",
       "  <tbody>\n",
       "    <tr>\n",
       "      <th>Okaloosa County, Florida</th>\n",
       "      <td>12</td>\n",
       "      <td>091</td>\n",
       "    </tr>\n",
       "    <tr>\n",
       "      <th>Taylor County, Florida</th>\n",
       "      <td>12</td>\n",
       "      <td>123</td>\n",
       "    </tr>\n",
       "    <tr>\n",
       "      <th>Washington County, Florida</th>\n",
       "      <td>12</td>\n",
       "      <td>133</td>\n",
       "    </tr>\n",
       "    <tr>\n",
       "      <th>Duval County, Florida</th>\n",
       "      <td>12</td>\n",
       "      <td>031</td>\n",
       "    </tr>\n",
       "    <tr>\n",
       "      <th>Bradford County, Florida</th>\n",
       "      <td>12</td>\n",
       "      <td>007</td>\n",
       "    </tr>\n",
       "  </tbody>\n",
       "</table>\n",
       "</div>"
      ],
      "text/plain": [
       "                           State_fips County_fips\n",
       "Okaloosa County, Florida           12         091\n",
       "Taylor County, Florida             12         123\n",
       "Washington County, Florida         12         133\n",
       "Duval County, Florida              12         031\n",
       "Bradford County, Florida           12         007"
      ]
     },
     "execution_count": 13,
     "metadata": {},
     "output_type": "execute_result"
    }
   ],
   "source": [
    "### Check to see if we make things right\n",
    "tmp_county_in_state_dict.head()"
   ]
  },
  {
   "cell_type": "markdown",
   "metadata": {},
   "source": [
    "## Get corresponding info for each block group\n",
    "\n",
    "### A few funtions to extract fips, county and state name from censusgeo object"
   ]
  },
  {
   "cell_type": "code",
   "execution_count": 14,
   "metadata": {},
   "outputs": [],
   "source": [
    "### Extract fips from censusgeo object\n",
    "def extract_fips(s):\n",
    "    code_str = str(s).split(',')[-1]\n",
    "    return int(''.join([s for s in code_str if s.isdigit()]))"
   ]
  },
  {
   "cell_type": "code",
   "execution_count": 15,
   "metadata": {},
   "outputs": [],
   "source": [
    "### Extract county and state name from censusgeo object\n",
    "def geo_info(s):\n",
    "    county, state = str(s).split(':')[0].split(',')[-2:]\n",
    "    county = county.strip()\n",
    "    state = state.strip()\n",
    "    return (county, state)"
   ]
  },
  {
   "cell_type": "markdown",
   "metadata": {},
   "source": [
    "### First we create a list of what attribute we would like to collect\n",
    "Those uniqueid are searched through https://www2.census.gov/programs-surveys/acs/summary_file/2018/documentation/user_tools/ACS2018_Table_Shells.xlsx"
   ]
  },
  {
   "cell_type": "code",
   "execution_count": 16,
   "metadata": {},
   "outputs": [
    {
     "data": {
      "text/plain": [
       "['B01001_001E', 'B01001_002E', 'B01001_003E', 'B01001_004E', 'B01001_005E']"
      ]
     },
     "execution_count": 16,
     "metadata": {},
     "output_type": "execute_result"
    }
   ],
   "source": [
    "### Unique id for sex by age\n",
    "tmp_list_for_sex_by_age = []\n",
    "for i in range(49):\n",
    "    tmp_column_name = \"B01001_\" + str(i+1).zfill(3) +'E'\n",
    "    tmp_list_for_sex_by_age.append(tmp_column_name)\n",
    "tmp_list_for_sex_by_age[0:5]"
   ]
  },
  {
   "cell_type": "code",
   "execution_count": 17,
   "metadata": {},
   "outputs": [],
   "source": [
    "### Unique id for total population\n",
    "tmp_list_for_total_population = ['B01003_001E']"
   ]
  },
  {
   "cell_type": "code",
   "execution_count": 18,
   "metadata": {},
   "outputs": [
    {
     "data": {
      "text/plain": [
       "['B02001_001E', 'B02001_002E', 'B02001_003E', 'B02001_004E', 'B02001_005E']"
      ]
     },
     "execution_count": 18,
     "metadata": {},
     "output_type": "execute_result"
    }
   ],
   "source": [
    "### Unique id for race\n",
    "tmp_list_for_race = []\n",
    "for i in range(9):\n",
    "    tmp_column_name = \"B02001_\" + str(i+1).zfill(3) +'E'\n",
    "    tmp_list_for_race.append(tmp_column_name)\n",
    "tmp_list_for_race[0:5]"
   ]
  },
  {
   "cell_type": "code",
   "execution_count": 19,
   "metadata": {},
   "outputs": [
    {
     "data": {
      "text/plain": [
       "['B27010_001E', 'B27010_002E', 'B27010_003E', 'B27010_004E', 'B27010_005E']"
      ]
     },
     "execution_count": 19,
     "metadata": {},
     "output_type": "execute_result"
    }
   ],
   "source": [
    "### Unique id for insurance by age\n",
    "tmp_list_for_insurance_by_age = []\n",
    "for i in range(66):\n",
    "    tmp_column_name = \"B27010_\" + str(i+1).zfill(3) +'E'\n",
    "    tmp_list_for_insurance_by_age.append(tmp_column_name)\n",
    "tmp_list_for_insurance_by_age[0:5]"
   ]
  },
  {
   "cell_type": "code",
   "execution_count": 20,
   "metadata": {},
   "outputs": [
    {
     "data": {
      "text/plain": [
       "['B15003_001E', 'B15003_002E', 'B15003_003E', 'B15003_004E', 'B15003_005E']"
      ]
     },
     "execution_count": 20,
     "metadata": {},
     "output_type": "execute_result"
    }
   ],
   "source": [
    "### Unique id for education\n",
    "tmp_list_for_education = []\n",
    "for i in range(25):\n",
    "    tmp_column_name = \"B15003_\" + str(i+1).zfill(3) +'E'\n",
    "    tmp_list_for_education.append(tmp_column_name)\n",
    "tmp_list_for_education[0:5]"
   ]
  },
  {
   "cell_type": "code",
   "execution_count": 21,
   "metadata": {},
   "outputs": [
    {
     "data": {
      "text/plain": [
       "['B23025_001E', 'B23025_002E', 'B23025_003E', 'B23025_004E', 'B23025_005E']"
      ]
     },
     "execution_count": 21,
     "metadata": {},
     "output_type": "execute_result"
    }
   ],
   "source": [
    "### Unique id for employment status\n",
    "tmp_list_for_employment = []\n",
    "for i in range(7):\n",
    "    tmp_column_name = \"B23025_\" + str(i+1).zfill(3) +'E'\n",
    "    tmp_list_for_employment.append(tmp_column_name)\n",
    "tmp_list_for_employment[0:5]"
   ]
  },
  {
   "cell_type": "code",
   "execution_count": 29,
   "metadata": {},
   "outputs": [
    {
     "data": {
      "text/plain": [
       "['B03003_001E', 'B03003_002E', 'B03003_003E']"
      ]
     },
     "execution_count": 29,
     "metadata": {},
     "output_type": "execute_result"
    }
   ],
   "source": [
    "### Unique id for latino\n",
    "tmp_list_for_latino = []\n",
    "for i in range(3):\n",
    "    tmp_column_name = \"B03003_\" + str(i+1).zfill(3) +'E'\n",
    "    tmp_list_for_latino.append(tmp_column_name)\n",
    "tmp_list_for_latino"
   ]
  },
  {
   "cell_type": "code",
   "execution_count": 30,
   "metadata": {},
   "outputs": [
    {
     "data": {
      "text/plain": [
       "['B19001_001E', 'B19001_002E', 'B19001_003E', 'B19001_004E', 'B19001_005E']"
      ]
     },
     "execution_count": 30,
     "metadata": {},
     "output_type": "execute_result"
    }
   ],
   "source": [
    "### Unique id for household income\n",
    "tmp_list_for_household_income = []\n",
    "for i in range(17):\n",
    "    tmp_column_name = \"B19001_\" + str(i+1).zfill(3) +'E'\n",
    "    tmp_list_for_household_income.append(tmp_column_name)\n",
    "tmp_list_for_household_income[0:5]"
   ]
  },
  {
   "cell_type": "markdown",
   "metadata": {},
   "source": [
    "### Make a list of variables we would like to find"
   ]
  },
  {
   "cell_type": "code",
   "execution_count": 31,
   "metadata": {},
   "outputs": [],
   "source": [
    "list_of_attribute_to_collect = ['sex_by_age','total_population', 'race', \n",
    "                                'insurance_by_age', 'education', 'employment','latino',\n",
    "                                'household_income']"
   ]
  },
  {
   "cell_type": "code",
   "execution_count": 32,
   "metadata": {},
   "outputs": [],
   "source": [
    "# cookbg = censusdata.download('acs5', 2018,\n",
    "#                              censusdata.censusgeo([('state', state_fips), ('county', '091'), ('block group', '*')]),\n",
    "#                              tmp_list_for_placeofbirth_by_sex, key=secret_config['web_resource']['api_key'])\n",
    "\n",
    "# cookbg.head()"
   ]
  },
  {
   "cell_type": "code",
   "execution_count": 33,
   "metadata": {},
   "outputs": [
    {
     "data": {
      "text/plain": [
       "8"
      ]
     },
     "execution_count": 33,
     "metadata": {},
     "output_type": "execute_result"
    }
   ],
   "source": [
    "len(list_of_attribute_to_collect)"
   ]
  },
  {
   "cell_type": "markdown",
   "metadata": {},
   "source": [
    "### Then we go over this list of attribute we would like to find"
   ]
  },
  {
   "cell_type": "code",
   "execution_count": null,
   "metadata": {},
   "outputs": [],
   "source": [
    "for j in tqdm(range(len(list_of_attribute_to_collect))):\n",
    "    ### First set which attribute we would like to find\n",
    "    tmp_attribute_to_collect = list_of_attribute_to_collect[j]\n",
    "\n",
    "    if tmp_attribute_to_collect == 'sex_by_age':\n",
    "        tmp_list_of_columns = tmp_list_for_sex_by_age\n",
    "    if tmp_attribute_to_collect == 'total_population':\n",
    "        tmp_list_of_columns = tmp_list_for_total_population\n",
    "    if tmp_attribute_to_collect == 'race':\n",
    "        tmp_list_of_columns = tmp_list_for_race\n",
    "    if tmp_attribute_to_collect == 'insurance_by_age':\n",
    "        tmp_list_of_columns = tmp_list_for_insurance_by_age\n",
    "    if tmp_attribute_to_collect == 'education':\n",
    "        tmp_list_of_columns = tmp_list_for_education\n",
    "    if tmp_attribute_to_collect == 'employment':\n",
    "        tmp_list_of_columns = tmp_list_for_employment\n",
    "    if tmp_attribute_to_collect == 'latino':\n",
    "        tmp_list_of_columns = tmp_list_for_latino\n",
    "    if tmp_attribute_to_collect == 'household_income':\n",
    "        tmp_list_of_columns = tmp_list_for_household_income\n",
    "        \n",
    "        \n",
    "    #### Then go over each county in specific state to find this attribute\n",
    "    for i in tqdm(range(tmp_county_in_state_dict.shape[0])):\n",
    "\n",
    "        ### First we get county fips\n",
    "        tmp_county_fips = tmp_county_in_state_dict['County_fips'][i]\n",
    "\n",
    "        ### cookbg is a df which contains corrsponding info in each county\n",
    "        cookbg = censusdata.download('acs5', 2018,\n",
    "                                     censusdata.censusgeo([('state', state_fips), ('county', tmp_county_fips), ('block group', '*')]),\n",
    "                                     tmp_list_of_columns, key=secret_config['web_resource']['api_key'])\n",
    "\n",
    "        cookbg['geo_tuple'] = cookbg.index.map(geo_info)\n",
    "        cookbg['fips'] = cookbg.index.map(extract_fips)\n",
    "\n",
    "        cookbg['Block_fips'] = cookbg['fips'].map(lambda x:str(x)[-1])\n",
    "        cookbg['Tract_fips'] = cookbg['fips'].map(lambda x:str(x)[5:-1])\n",
    "        cookbg['County_fips'] = tmp_county_fips\n",
    "        cookbg['State_fips'] = state_fips\n",
    "        cookbg['County_Name'] = cookbg['geo_tuple'].map(lambda x:x[0])\n",
    "        cookbg['State_Name'] = cookbg['geo_tuple'].map(lambda x:x[1])\n",
    "\n",
    "        cookbg.set_index(\"fips\", inplace=True)\n",
    "\n",
    "        if i==0:\n",
    "            df_for_all_county_in_state = cookbg\n",
    "        else:\n",
    "            df_for_all_county_in_state = pd.concat([df_for_all_county_in_state, cookbg])\n",
    "\n",
    "\n",
    "    ### Some cleaning\n",
    "    df_for_all_county_in_state.drop(columns=['geo_tuple'], inplace=True)\n",
    "    df_for_all_county_in_state.columns = df_for_all_county_in_state.columns.str.lower()\n",
    "    df_for_all_county_in_state = df_for_all_county_in_state.reset_index()\n",
    "    # df_for_all_county_in_state.head()\n",
    "\n",
    "    ### Use ohio to output df to specifc schema in given database\n",
    "    if tmp_attribute_to_collect == 'sex_by_age':\n",
    "        df_for_all_county_in_state.pg_copy_to('acs_sex_by_age_b01001', schema=secret_config['db']['schema'], con=engine)\n",
    "    if tmp_attribute_to_collect == 'total_population':\n",
    "        df_for_all_county_in_state.pg_copy_to('acs_total_population_b01003', schema=secret_config['db']['schema'], con=engine)\n",
    "    if tmp_attribute_to_collect == 'race':   \n",
    "        df_for_all_county_in_state.pg_copy_to('acs_race_b02001', schema=secret_config['db']['schema'], con=engine)\n",
    "    if tmp_attribute_to_collect == 'insurance_by_age':\n",
    "        df_for_all_county_in_state.pg_copy_to('acs_insurance_by_age_b27010', schema=secret_config['db']['schema'], con=engine)\n",
    "\n",
    "    if tmp_attribute_to_collect == 'education':\n",
    "        df_for_all_county_in_state.pg_copy_to('acs_education_b15003', schema=secret_config['db']['schema'], con=engine)\n",
    "    if tmp_attribute_to_collect == 'employment':\n",
    "        df_for_all_county_in_state.pg_copy_to('acs_employment_b23025', schema=secret_config['db']['schema'], con=engine)\n",
    "    if tmp_attribute_to_collect == 'latino':\n",
    "        df_for_all_county_in_state.pg_copy_to('acs_latino_b03003', schema=secret_config['db']['schema'], con=engine)\n",
    "    if tmp_attribute_to_collect == 'household_income':\n",
    "        df_for_all_county_in_state.pg_copy_to('acs_household_income_b19001', schema=secret_config['db']['schema'], con=engine)"
   ]
  },
  {
   "cell_type": "code",
   "execution_count": null,
   "metadata": {},
   "outputs": [],
   "source": []
  }
 ],
 "metadata": {
  "kernelspec": {
   "display_name": "turnout5",
   "language": "python",
   "name": "turnout5"
  },
  "language_info": {
   "codemirror_mode": {
    "name": "ipython",
    "version": 3
   },
   "file_extension": ".py",
   "mimetype": "text/x-python",
   "name": "python",
   "nbconvert_exporter": "python",
   "pygments_lexer": "ipython3",
   "version": "3.7.5"
  },
  "toc": {
   "base_numbering": 1,
   "nav_menu": {},
   "number_sections": true,
   "sideBar": true,
   "skip_h1_title": false,
   "title_cell": "Table of Contents",
   "title_sidebar": "Contents",
   "toc_cell": false,
   "toc_position": {},
   "toc_section_display": true,
   "toc_window_display": false
  }
 },
 "nbformat": 4,
 "nbformat_minor": 2
}
